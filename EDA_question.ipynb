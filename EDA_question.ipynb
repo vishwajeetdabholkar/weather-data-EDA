{
 "cells": [
  {
   "cell_type": "markdown",
   "metadata": {},
   "source": [
    "### Directions\n",
    "    - The data required for this task has been provided in the file 'data.csv'\n",
    "    - Read the questions provided for each cell and assign your answers to respective variables provided in the following cell.\n",
    "    - If answers are floating point numbers round of updo two floating point after the decimal\n",
    "      - for example 10.546 should be read as 10.55, 10.544 as 10.54 and 10.1 as 10.10\n",
    "    - pandas and numpy packages are preinstalled for this task which should be sufficient to complete this task.\n",
    "    - If you need any other additional package run !pip3 install <package_name> --user in a new cell.\n",
    "    - You can either try out the solution in the same notebook or free to create additional notebook, but make sure you come back to this notebook to answer the questions.\n",
    "    - Please dont change variable name meant to assign your answers.\n",
    "    - You can create a new notebook to write your scripts for EDA and use this notebook to assign the answers."
   ]
  },
  {
   "cell_type": "code",
   "execution_count": 8,
   "metadata": {},
   "outputs": [],
   "source": [
    "import pandas as pd\n",
    "import numpy as np\n",
    "from scipy.stats import pearsonr\n"
   ]
  },
  {
   "cell_type": "code",
   "execution_count": 18,
   "metadata": {},
   "outputs": [
    {
     "data": {
      "text/html": [
       "<div>\n",
       "<style scoped>\n",
       "    .dataframe tbody tr th:only-of-type {\n",
       "        vertical-align: middle;\n",
       "    }\n",
       "\n",
       "    .dataframe tbody tr th {\n",
       "        vertical-align: top;\n",
       "    }\n",
       "\n",
       "    .dataframe thead th {\n",
       "        text-align: right;\n",
       "    }\n",
       "</style>\n",
       "<table border=\"1\" class=\"dataframe\">\n",
       "  <thead>\n",
       "    <tr style=\"text-align: right;\">\n",
       "      <th></th>\n",
       "      <th>Day</th>\n",
       "      <th>Average temperature (°F)</th>\n",
       "      <th>Average humidity (%)</th>\n",
       "      <th>Average dewpoint (°F)</th>\n",
       "      <th>Average barometer (in)</th>\n",
       "      <th>Average windspeed (mph)</th>\n",
       "      <th>Average gustspeed (mph)</th>\n",
       "      <th>Average direction (°deg)</th>\n",
       "      <th>Rainfall for month (in)</th>\n",
       "      <th>Rainfall for year (in)</th>\n",
       "      <th>Maximum rain per minute</th>\n",
       "      <th>Maximum temperature (°F)</th>\n",
       "      <th>Minimum temperature (°F)</th>\n",
       "      <th>Maximum humidity (%)</th>\n",
       "      <th>Minimum humidity (%)</th>\n",
       "      <th>Maximum pressure</th>\n",
       "      <th>Minimum pressure</th>\n",
       "      <th>Maximum windspeed (mph)</th>\n",
       "      <th>Maximum gust speed (mph)</th>\n",
       "      <th>Maximum heat index (°F)</th>\n",
       "    </tr>\n",
       "  </thead>\n",
       "  <tbody>\n",
       "    <tr>\n",
       "      <th>0</th>\n",
       "      <td>1/01/2009</td>\n",
       "      <td>37.8</td>\n",
       "      <td>35</td>\n",
       "      <td>12.7</td>\n",
       "      <td>29.7</td>\n",
       "      <td>26.4</td>\n",
       "      <td>36.8</td>\n",
       "      <td>274</td>\n",
       "      <td>0.0</td>\n",
       "      <td>0.0</td>\n",
       "      <td>0.0</td>\n",
       "      <td>40.1</td>\n",
       "      <td>34.5</td>\n",
       "      <td>44</td>\n",
       "      <td>27</td>\n",
       "      <td>29.762</td>\n",
       "      <td>29.596</td>\n",
       "      <td>41.4</td>\n",
       "      <td>59.0</td>\n",
       "      <td>40.1</td>\n",
       "    </tr>\n",
       "    <tr>\n",
       "      <th>1</th>\n",
       "      <td>2/01/2009</td>\n",
       "      <td>43.2</td>\n",
       "      <td>32</td>\n",
       "      <td>14.7</td>\n",
       "      <td>29.5</td>\n",
       "      <td>12.8</td>\n",
       "      <td>18.0</td>\n",
       "      <td>240</td>\n",
       "      <td>0.0</td>\n",
       "      <td>0.0</td>\n",
       "      <td>0.0</td>\n",
       "      <td>52.8</td>\n",
       "      <td>37.5</td>\n",
       "      <td>43</td>\n",
       "      <td>16</td>\n",
       "      <td>29.669</td>\n",
       "      <td>29.268</td>\n",
       "      <td>35.7</td>\n",
       "      <td>51.0</td>\n",
       "      <td>52.8</td>\n",
       "    </tr>\n",
       "    <tr>\n",
       "      <th>2</th>\n",
       "      <td>3/01/2009</td>\n",
       "      <td>25.7</td>\n",
       "      <td>60</td>\n",
       "      <td>12.7</td>\n",
       "      <td>29.7</td>\n",
       "      <td>8.3</td>\n",
       "      <td>12.2</td>\n",
       "      <td>290</td>\n",
       "      <td>0.0</td>\n",
       "      <td>0.0</td>\n",
       "      <td>0.0</td>\n",
       "      <td>41.2</td>\n",
       "      <td>6.7</td>\n",
       "      <td>89</td>\n",
       "      <td>35</td>\n",
       "      <td>30.232</td>\n",
       "      <td>29.260</td>\n",
       "      <td>25.3</td>\n",
       "      <td>38.0</td>\n",
       "      <td>41.2</td>\n",
       "    </tr>\n",
       "    <tr>\n",
       "      <th>3</th>\n",
       "      <td>4/01/2009</td>\n",
       "      <td>9.3</td>\n",
       "      <td>67</td>\n",
       "      <td>0.1</td>\n",
       "      <td>30.4</td>\n",
       "      <td>2.9</td>\n",
       "      <td>4.5</td>\n",
       "      <td>47</td>\n",
       "      <td>0.0</td>\n",
       "      <td>0.0</td>\n",
       "      <td>0.0</td>\n",
       "      <td>19.4</td>\n",
       "      <td>-0.0</td>\n",
       "      <td>79</td>\n",
       "      <td>35</td>\n",
       "      <td>30.566</td>\n",
       "      <td>30.227</td>\n",
       "      <td>12.7</td>\n",
       "      <td>20.0</td>\n",
       "      <td>32.0</td>\n",
       "    </tr>\n",
       "    <tr>\n",
       "      <th>4</th>\n",
       "      <td>5/01/2009</td>\n",
       "      <td>23.5</td>\n",
       "      <td>30</td>\n",
       "      <td>-5.3</td>\n",
       "      <td>29.9</td>\n",
       "      <td>16.7</td>\n",
       "      <td>23.1</td>\n",
       "      <td>265</td>\n",
       "      <td>0.0</td>\n",
       "      <td>0.0</td>\n",
       "      <td>0.0</td>\n",
       "      <td>30.3</td>\n",
       "      <td>15.1</td>\n",
       "      <td>56</td>\n",
       "      <td>13</td>\n",
       "      <td>30.233</td>\n",
       "      <td>29.568</td>\n",
       "      <td>38.0</td>\n",
       "      <td>53.0</td>\n",
       "      <td>32.0</td>\n",
       "    </tr>\n",
       "  </tbody>\n",
       "</table>\n",
       "</div>"
      ],
      "text/plain": [
       "         Day  Average temperature (°F)  Average humidity (%)  \\\n",
       "0  1/01/2009                      37.8                    35   \n",
       "1  2/01/2009                      43.2                    32   \n",
       "2  3/01/2009                      25.7                    60   \n",
       "3  4/01/2009                       9.3                    67   \n",
       "4  5/01/2009                      23.5                    30   \n",
       "\n",
       "   Average dewpoint (°F)  Average barometer (in)  Average windspeed (mph)  \\\n",
       "0                   12.7                    29.7                     26.4   \n",
       "1                   14.7                    29.5                     12.8   \n",
       "2                   12.7                    29.7                      8.3   \n",
       "3                    0.1                    30.4                      2.9   \n",
       "4                   -5.3                    29.9                     16.7   \n",
       "\n",
       "   Average gustspeed (mph)  Average direction (°deg)  Rainfall for month (in)  \\\n",
       "0                     36.8                       274                      0.0   \n",
       "1                     18.0                       240                      0.0   \n",
       "2                     12.2                       290                      0.0   \n",
       "3                      4.5                        47                      0.0   \n",
       "4                     23.1                       265                      0.0   \n",
       "\n",
       "   Rainfall for year (in)  Maximum rain per minute  Maximum temperature (°F)  \\\n",
       "0                     0.0                      0.0                      40.1   \n",
       "1                     0.0                      0.0                      52.8   \n",
       "2                     0.0                      0.0                      41.2   \n",
       "3                     0.0                      0.0                      19.4   \n",
       "4                     0.0                      0.0                      30.3   \n",
       "\n",
       "   Minimum temperature (°F)  Maximum humidity (%)  Minimum humidity (%)  \\\n",
       "0                      34.5                    44                    27   \n",
       "1                      37.5                    43                    16   \n",
       "2                       6.7                    89                    35   \n",
       "3                      -0.0                    79                    35   \n",
       "4                      15.1                    56                    13   \n",
       "\n",
       "   Maximum pressure  Minimum pressure  Maximum windspeed (mph)  \\\n",
       "0            29.762            29.596                     41.4   \n",
       "1            29.669            29.268                     35.7   \n",
       "2            30.232            29.260                     25.3   \n",
       "3            30.566            30.227                     12.7   \n",
       "4            30.233            29.568                     38.0   \n",
       "\n",
       "   Maximum gust speed (mph)  Maximum heat index (°F)  \n",
       "0                      59.0                     40.1  \n",
       "1                      51.0                     52.8  \n",
       "2                      38.0                     41.2  \n",
       "3                      20.0                     32.0  \n",
       "4                      53.0                     32.0  "
      ]
     },
     "execution_count": 18,
     "metadata": {},
     "output_type": "execute_result"
    }
   ],
   "source": [
    "### Read the data (this will not be graded)\n",
    "df = pd.read_csv(\"data.csv\")\n",
    "df.columns = df.columns.str.strip()\n",
    "df.head()"
   ]
  },
  {
   "cell_type": "code",
   "execution_count": 4,
   "metadata": {},
   "outputs": [],
   "source": [
    "df['Day'] = pd.to_datetime(df['Day'])"
   ]
  },
  {
   "cell_type": "markdown",
   "metadata": {},
   "source": [
    "### What is the standard deviation of maximum windspeed across all the days"
   ]
  },
  {
   "cell_type": "code",
   "execution_count": 5,
   "metadata": {},
   "outputs": [
    {
     "name": "stdout",
     "output_type": "stream",
     "text": [
      "Standard deviation of maximum windspeed: 13.060875060425259\n"
     ]
    }
   ],
   "source": [
    "std_max_windspeed = df['Maximum windspeed (mph)'].std()\n",
    "print(f'Standard deviation of maximum windspeed: {std_max_windspeed}')"
   ]
  },
  {
   "cell_type": "markdown",
   "metadata": {},
   "source": [
    "### What is the difference between 50th percentile and 75th percentile of average temperature"
   ]
  },
  {
   "cell_type": "code",
   "execution_count": 6,
   "metadata": {},
   "outputs": [
    {
     "name": "stdout",
     "output_type": "stream",
     "text": [
      "Difference between 50th and 75th percentile of average temperature: 12.200000000000003\n"
     ]
    }
   ],
   "source": [
    "diff_50_75_avg_temp = df['Average temperature (°F)'].quantile(0.75) - df['Average temperature (°F)'].quantile(0.5)\n",
    "print(f'Difference between 50th and 75th percentile of average temperature: {diff_50_75_avg_temp}')"
   ]
  },
  {
   "cell_type": "markdown",
   "metadata": {},
   "source": [
    "### What is the pearson correlation between average dew point and average temperature"
   ]
  },
  {
   "cell_type": "code",
   "execution_count": 9,
   "metadata": {},
   "outputs": [
    {
     "name": "stdout",
     "output_type": "stream",
     "text": [
      "Pearson correlation between average dew point and average temperature: 0.7596091253567394\n"
     ]
    }
   ],
   "source": [
    "corr_avg_dew_temp, _ = pearsonr(df['Average dewpoint (°F)'], df['Average temperature (°F)'])\n",
    "print(f'Pearson correlation between average dew point and average temperature: {corr_avg_dew_temp}')"
   ]
  },
  {
   "cell_type": "markdown",
   "metadata": {},
   "source": [
    "### Out of all the available records which month has the lowest average humidity.\n",
    "    - Assign your answer as month index, for example if its July index is 7"
   ]
  },
  {
   "cell_type": "code",
   "execution_count": 10,
   "metadata": {},
   "outputs": [
    {
     "name": "stdout",
     "output_type": "stream",
     "text": [
      "Month with lowest average humidity: 11\n"
     ]
    }
   ],
   "source": [
    "df['Month'] = df['Day'].dt.month\n",
    "month_min_avg_humidity = df.groupby('Month')['Average humidity (%)'].mean().idxmin()\n",
    "print(f'Month with lowest average humidity: {month_min_avg_humidity}')"
   ]
  },
  {
   "cell_type": "markdown",
   "metadata": {},
   "source": [
    "### Which month has the highest median for maximum_gust_speed out of all the available records. Also find the repective value\n",
    "    - hint: group by month"
   ]
  },
  {
   "cell_type": "code",
   "execution_count": 11,
   "metadata": {},
   "outputs": [
    {
     "name": "stdout",
     "output_type": "stream",
     "text": [
      "Month with highest median maximum gust speed: 11, Value: 32.2\n"
     ]
    }
   ],
   "source": [
    "month_max_med_gust_speed = df.groupby('Month')['Maximum gust speed (mph)'].median().idxmax()\n",
    "max_med_gust_speed = df.groupby('Month')['Maximum gust speed (mph)'].median().max()\n",
    "print(f'Month with highest median maximum gust speed: {month_max_med_gust_speed}, Value: {max_med_gust_speed}')"
   ]
  },
  {
   "cell_type": "markdown",
   "metadata": {},
   "source": [
    "### Determine the average temperature between the months of March 2010 to May 2012 (including both the months)"
   ]
  },
  {
   "cell_type": "code",
   "execution_count": 12,
   "metadata": {},
   "outputs": [
    {
     "name": "stdout",
     "output_type": "stream",
     "text": [
      "Average temperature between March 2010 to May 2012: 45.6023426061493\n"
     ]
    }
   ],
   "source": [
    "avg_temp_mar_2010_may_2012 = df.loc[(df['Day'] >= '2010-03-01') & (df['Day'] <= '2012-05-31'), 'Average temperature (°F)'].mean()\n",
    "print(f'Average temperature between March 2010 to May 2012: {avg_temp_mar_2010_may_2012}')\n"
   ]
  },
  {
   "cell_type": "markdown",
   "metadata": {},
   "source": [
    "### Find the range of averange temperature  on Dec 2010 "
   ]
  },
  {
   "cell_type": "code",
   "execution_count": 13,
   "metadata": {},
   "outputs": [
    {
     "name": "stdout",
     "output_type": "stream",
     "text": [
      "Range of average temperature in Dec 2010: 66.6\n"
     ]
    }
   ],
   "source": [
    "range_avg_temp_dec_2010 = df.loc[(df['Day'] >= '2010-12-01') & (df['Day'] < '2011-01-01'), 'Average temperature (°F)'].max() - df.loc[(df['Day'] >= '2010-12-01') & (df['Day'] < '2011-01-01'), 'Average temperature (°F)'].min()\n",
    "print(f'Range of average temperature in Dec 2010: {range_avg_temp_dec_2010}')\n"
   ]
  },
  {
   "cell_type": "markdown",
   "metadata": {},
   "source": [
    "### Out of all available records which day has the highest difference between maximum_pressure and minimum_pressure\n",
    "    - assign the date in string format as 'yyyy-mm-dd'. Make sure you enclose it with single quote"
   ]
  },
  {
   "cell_type": "code",
   "execution_count": 19,
   "metadata": {},
   "outputs": [
    {
     "name": "stdout",
     "output_type": "stream",
     "text": [
      "Day with highest difference between maximum pressure and minimum pressure: 23/03/2018\n"
     ]
    }
   ],
   "source": [
    "df['Pressure Difference'] = df['Maximum pressure'] - df['Minimum pressure']\n",
    "max_diff_day = df.loc[df['Pressure Difference'].idxmax(), 'Day']\n",
    "print(f'Day with highest difference between maximum pressure and minimum pressure: {max_diff_day}')"
   ]
  },
  {
   "cell_type": "markdown",
   "metadata": {},
   "source": [
    "### How many days falls under median (i.e equal to median value) of barrometer reading."
   ]
  },
  {
   "cell_type": "code",
   "execution_count": 20,
   "metadata": {},
   "outputs": [
    {
     "name": "stdout",
     "output_type": "stream",
     "text": [
      "Days with median barometer reading: 534\n"
     ]
    }
   ],
   "source": [
    "barometer_median = df['Average barometer (in)'].median()\n",
    "days_at_median = df[df['Average barometer (in)'] == barometer_median].shape[0]\n",
    "print(f'Days with median barometer reading: {days_at_median}')"
   ]
  },
  {
   "cell_type": "markdown",
   "metadata": {},
   "source": [
    "### Out of all the available records how many days are within one standard deviation of average temperaturem"
   ]
  },
  {
   "cell_type": "code",
   "execution_count": 21,
   "metadata": {},
   "outputs": [
    {
     "name": "stdout",
     "output_type": "stream",
     "text": [
      "Days within one standard deviation of average temperature: 2092\n"
     ]
    }
   ],
   "source": [
    "avg_temp_std = df['Average temperature (°F)'].std()\n",
    "avg_temp_mean = df['Average temperature (°F)'].mean()\n",
    "days_within_std = df[(df['Average temperature (°F)'] >= avg_temp_mean - avg_temp_std) & (df['Average temperature (°F)'] <= avg_temp_mean + avg_temp_std)].shape[0]\n",
    "print(f'Days within one standard deviation of average temperature: {days_within_std}')"
   ]
  },
  {
   "cell_type": "markdown",
   "metadata": {},
   "source": [
    "## Once you are done with your solution make sure you have saved the notebook (ctrl + s)"
   ]
  }
 ],
 "metadata": {
  "kernelspec": {
   "display_name": "Python 3",
   "language": "python",
   "name": "python3"
  },
  "language_info": {
   "codemirror_mode": {
    "name": "ipython",
    "version": 3
   },
   "file_extension": ".py",
   "mimetype": "text/x-python",
   "name": "python",
   "nbconvert_exporter": "python",
   "pygments_lexer": "ipython3",
   "version": "3.8.3"
  }
 },
 "nbformat": 4,
 "nbformat_minor": 2
}
